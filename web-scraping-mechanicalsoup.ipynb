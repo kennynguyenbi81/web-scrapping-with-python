{
 "cells": [
  {
   "cell_type": "markdown",
   "metadata": {},
   "source": [
    "Practice and follow instruction from YouTube channel \"Python Simplified\"\n",
    "\n",
    "https://www.youtube.com/watch?v=drDdb1MBBfI"
   ]
  },
  {
   "cell_type": "code",
   "execution_count": null,
   "metadata": {},
   "outputs": [],
   "source": [
    "import mechanicalsoup\n",
    "\n",
    "browser = mechanicalsoup.StatefulBrowser()\n",
    "url = \"https://www.google.com/imghp?hl=EN\" #using Google Images\n",
    "\n",
    "browser.open(url)\n",
    "# print(browser.get_url())"
   ]
  },
  {
   "cell_type": "code",
   "execution_count": null,
   "metadata": {},
   "outputs": [],
   "source": [
    "#get HTML\n",
    "browser.get_current_page()\n",
    "\n",
    "#target the search input\n",
    "browser.select_form()\n",
    "#browser.get_current_form().print_summary()\n",
    "\n",
    "#search for a term\n",
    "search_term = \"dog\"\n",
    "browser[\"q\"] = search_term\n",
    "\n",
    "#submit/click search\n",
    "browser.launch_browser()\n",
    "response = browser.submit_selected()\n",
    "\n",
    "# print(\"new url: \", browser.get_url())\n",
    "# print(\"my response:\\n\", response.text[:500])"
   ]
  },
  {
   "cell_type": "code",
   "execution_count": null,
   "metadata": {},
   "outputs": [],
   "source": [
    "#open new url\n",
    "new_url = browser.get_url()\n",
    "browser.open(new_url)\n",
    "\n",
    "#get HTML\n",
    "page = browser.get_current_page()\n",
    "all_images = page.find_all(\"img\")\n",
    "\n",
    "#target the source attribute\n",
    "image_source = []\n",
    "for image in all_images:\n",
    "    image = image.get(\"src\")\n",
    "    image_source.append(image)"
   ]
  },
  {
   "cell_type": "code",
   "execution_count": null,
   "metadata": {},
   "outputs": [],
   "source": [
    "#clean the broken url from image_source list\n",
    "image_source = [image for image in image_source if image.startswith('https')]"
   ]
  },
  {
   "cell_type": "code",
   "execution_count": null,
   "metadata": {},
   "outputs": [],
   "source": [
    "import os\n",
    "import wget\n",
    "\n",
    "s_path = os.getcwd()\n",
    "s_path = os.path.join(s_path, search_term + 's')\n",
    "\n",
    "#create the directory to store downloaded images\n",
    "os.mkdir(s_path)"
   ]
  },
  {
   "cell_type": "code",
   "execution_count": null,
   "metadata": {},
   "outputs": [],
   "source": [
    "#download images\n",
    "counter = 0\n",
    "for image in image_source:\n",
    "    save_as = os.path.join(s_path, search_term + str(counter) + '.jpg')\n",
    "    wget.download(image, save_as)\n",
    "    counter += 1\n"
   ]
  }
 ],
 "metadata": {
  "interpreter": {
   "hash": "31f2aee4e71d21fbe5cf8b01ff0e069b9275f58929596ceb00d14d90e3e16cd6"
  },
  "kernelspec": {
   "display_name": "Python 3.8.10 64-bit",
   "language": "python",
   "name": "python3"
  },
  "language_info": {
   "codemirror_mode": {
    "name": "ipython",
    "version": 3
   },
   "file_extension": ".py",
   "mimetype": "text/x-python",
   "name": "python",
   "nbconvert_exporter": "python",
   "pygments_lexer": "ipython3",
   "version": "3.10.2"
  },
  "orig_nbformat": 4
 },
 "nbformat": 4,
 "nbformat_minor": 2
}
